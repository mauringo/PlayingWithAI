{
 "cells": [
  {
   "cell_type": "code",
   "execution_count": 1,
   "metadata": {},
   "outputs": [],
   "source": [
    "import numpy as np\n",
    "import cv2\n",
    "# Load the cascade\n",
    "face_cascade = cv2.CascadeClassifier('./haarcascades/haarcascade_frontalface_default.xml')\n",
    "eyescascade = cv2.CascadeClassifier('./haarcascades/haarcascade_eye.xml')\n",
    "eyescascadeglasses = cv2.CascadeClassifier('./haarcascades/haarcascade_eye_tree_eyeglasses.xml')\n",
    "smileIdent = cv2.CascadeClassifier('./haarcascades/haarcascade_smile.xml')\n",
    "# To capture video from webcam. \n",
    "cap = cv2.VideoCapture(0)\n",
    "# To use a video file as input \n",
    "# cap = cv2.VideoCapture('filename.mp4')\n",
    "\n",
    "while True:\n",
    "    # Read the frame\n",
    "    _, img = cap.read()\n",
    "    # Convert to grayscale\n",
    "    gray = cv2.cvtColor(img, cv2.COLOR_BGR2GRAY)\n",
    "    # Detect the faces\n",
    "    faces = face_cascade.detectMultiScale(gray, 1.1, 4)\n",
    "  \n",
    "    # Draw the rectangle around each face\n",
    "  \n",
    "    for (x,y,w,h) in faces:\n",
    "        \n",
    "        roi_gray = gray[y:y+h, x:x+w]\n",
    "        roi_color = img[y:y+h, x:x+w]\n",
    "        \n",
    "        smiles = smileIdent.detectMultiScale(roi_gray)\n",
    "        eyes = eyescascade.detectMultiScale(roi_gray)\n",
    "        eyesg = eyescascadeglasses.detectMultiScale(roi_gray)\n",
    "        \n",
    "        for (ex1,ey1,ew1,eh1) in smiles:\n",
    "            cv2.rectangle(roi_color,(ex1,ey1),(ex1+ew1,ey1+eh1),(255,255,0),2)\n",
    "            \n",
    "        \n",
    "        for (ex2,ey2,ew2,eh2) in eyes:\n",
    "            cv2.rectangle(roi_color,(ex2,ey2),(ex2+ew2,ey2+eh2),(0,255,0),2)\n",
    "\n",
    "       \n",
    "        for (ex,ey,ew,eh) in eyesg:\n",
    "            cv2.rectangle(roi_color,(ex,ey),(ex+ew,ey+eh),(0,0,255),2)\n",
    "            \n",
    "        cv2.rectangle(img,(x,y),(x+w,y+h),(255,0,0),2)\n",
    "    cv2.imshow('img', img)\n",
    "    # Stop if escape key is pressed\n",
    "    k = cv2.waitKey(30) & 0xff\n",
    "    if k==27:\n",
    "        break\n",
    "# Release the VideoCapture object\n",
    "cap.release()\n",
    "\n"
   ]
  },
  {
   "cell_type": "code",
   "execution_count": null,
   "metadata": {},
   "outputs": [],
   "source": []
  },
  {
   "cell_type": "code",
   "execution_count": null,
   "metadata": {},
   "outputs": [],
   "source": []
  }
 ],
 "metadata": {
  "kernelspec": {
   "display_name": "Python 3",
   "language": "python",
   "name": "python3"
  },
  "language_info": {
   "codemirror_mode": {
    "name": "ipython",
    "version": 3
   },
   "file_extension": ".py",
   "mimetype": "text/x-python",
   "name": "python",
   "nbconvert_exporter": "python",
   "pygments_lexer": "ipython3",
   "version": "3.8.5"
  }
 },
 "nbformat": 4,
 "nbformat_minor": 4
}
